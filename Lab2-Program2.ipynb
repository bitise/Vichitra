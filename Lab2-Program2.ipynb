{
 "cells": [
  {
   "cell_type": "code",
   "execution_count": 1,
   "id": "091d78bc",
   "metadata": {},
   "outputs": [],
   "source": [
    "# Program to find angle between two polar curves \n",
    "from sympy import *"
   ]
  },
  {
   "cell_type": "code",
   "execution_count": 3,
   "id": "bf040875",
   "metadata": {},
   "outputs": [
    {
     "name": "stdout",
     "output_type": "stream",
     "text": [
      "The point of intersection is [-acos(1/9) + 2*pi, acos(1/9)] \n",
      "\n",
      "Angle between the curves is \n"
     ]
    },
    {
     "data": {
      "text/latex": [
       "$\\displaystyle \\left|{ϕ_{1} - ϕ_{2}}\\right| = 1.5707963267949$"
      ],
      "text/plain": [
       "Eq(Abs(ϕ1 - ϕ2), 1.5707963267949)"
      ]
     },
     "metadata": {},
     "output_type": "display_data"
    },
    {
     "name": "stdout",
     "output_type": "stream",
     "text": [
      "or in deegres\n"
     ]
    },
    {
     "data": {
      "text/latex": [
       "$\\displaystyle \\left|{ϕ_{1} - ϕ_{2}}\\right| = 90.0$"
      ],
      "text/plain": [
       "Eq(Abs(ϕ1 - ϕ2), 90.0)"
      ]
     },
     "metadata": {},
     "output_type": "display_data"
    }
   ],
   "source": [
    "a, t, ϕ1, ϕ2 = symbols('a, t, ϕ1, ϕ2')\n",
    "\n",
    "# Question 1: r = e^at and r = e^-at\n",
    "# r1 = exp(a*t)\n",
    "# r2 = exp(-a*t)\n",
    "\n",
    "# Question 2: r = 4(1+cos(t)) and r = 5(1-cost(t))\n",
    "r1 = 4*(1+cos(t))\n",
    "r2 = 5*(1-cos(t))\n",
    "\n",
    "θ = solve(r1-r2,t) #to find point of intersection\n",
    "print(\"The point of intersection is\", θ, \"\\n\")\n",
    "\n",
    "dr1 = diff(r1, t)\n",
    "r1dr1 = r1/dr1 #tan(ϕ1)\n",
    "dr2 = diff(r2, t)\n",
    "r2dr2 = r2/dr2 #tan(ϕ2)\n",
    "r1dr1 = r1dr1.subs({t:θ[0]}) #tan(ϕ1) at θ\n",
    "r2dr2 = r2dr2.subs({t:θ[0]}) #tan(ϕ2) at θ\n",
    "\n",
    "p1 = atan(r1dr1)\n",
    "p2 = atan(r2dr2)\n",
    "p = abs(p1-p2)\n",
    "print(\"Angle between the curves is \")\n",
    "display(Eq(abs(ϕ1-ϕ2),float(p)))\n",
    "print(\"or in deegres\")\n",
    "display(Eq(abs(ϕ1-ϕ2),float(deg(p))))"
   ]
  }
 ],
 "metadata": {
  "kernelspec": {
   "display_name": "Python 3 (ipykernel)",
   "language": "python",
   "name": "python3"
  },
  "language_info": {
   "codemirror_mode": {
    "name": "ipython",
    "version": 3
   },
   "file_extension": ".py",
   "mimetype": "text/x-python",
   "name": "python",
   "nbconvert_exporter": "python",
   "pygments_lexer": "ipython3",
   "version": "3.9.7"
  }
 },
 "nbformat": 4,
 "nbformat_minor": 5
}
