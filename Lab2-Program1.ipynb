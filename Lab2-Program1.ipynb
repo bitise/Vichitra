{
 "cells": [
  {
   "cell_type": "code",
   "execution_count": 1,
   "id": "091d78bc",
   "metadata": {},
   "outputs": [],
   "source": [
    "# Program to find angle between two polar curves \n",
    "from sympy import *"
   ]
  },
  {
   "cell_type": "code",
   "execution_count": 3,
   "id": "bf040875",
   "metadata": {},
   "outputs": [
    {
     "name": "stdout",
     "output_type": "stream",
     "text": [
      "The point of intersection is [0, I*pi/a] \n",
      "\n",
      "Angle between the curves is \n"
     ]
    },
    {
     "data": {
      "text/latex": [
       "$\\displaystyle \\left|{ϕ_{1} - ϕ_{2}}\\right| = 2 \\left|{\\operatorname{atan}{\\left(\\frac{1}{a} \\right)}}\\right|$"
      ],
      "text/plain": [
       "Eq(Abs(ϕ1 - ϕ2), 2*Abs(atan(1/a)))"
      ]
     },
     "metadata": {},
     "output_type": "display_data"
    },
    {
     "name": "stdout",
     "output_type": "stream",
     "text": [
      "or in deegres\n"
     ]
    },
    {
     "data": {
      "text/latex": [
       "$\\displaystyle \\left|{ϕ_{1} - ϕ_{2}}\\right| = \\frac{360 \\left|{\\operatorname{atan}{\\left(\\frac{1}{a} \\right)}}\\right|}{\\pi}$"
      ],
      "text/plain": [
       "Eq(Abs(ϕ1 - ϕ2), 360*Abs(atan(1/a))/pi)"
      ]
     },
     "metadata": {},
     "output_type": "display_data"
    }
   ],
   "source": [
    "a, t, ϕ1, ϕ2 = symbols('a, t, ϕ1, ϕ2')\n",
    "\n",
    "# Question 1: r = e^at and r = e^-at\n",
    "r1 = exp(a*t)\n",
    "r2 = exp(-a*t)\n",
    "\n",
    "θ = solve(r1-r2,t) #to find point of intersection\n",
    "print(\"The point of intersection is\", θ, \"\\n\")\n",
    "\n",
    "dr1 = diff(r1, t)\n",
    "r1dr1 = r1/dr1 #tan(ϕ1)\n",
    "dr2 = diff(r2, t)\n",
    "r2dr2 = r2/dr2 #tan(ϕ2)\n",
    "r1dr1 = r1dr1.subs({t:θ[0]}) #tan(ϕ1) at θ\n",
    "r2dr2 = r2dr2.subs({t:θ[0]}) #tan(ϕ2) at θ\n",
    "\n",
    "p1 = atan(r1dr1)\n",
    "p2 = atan(r2dr2)\n",
    "p = abs(p1-p2)\n",
    "print(\"Angle between the curves is \")\n",
    "display(Eq(abs(ϕ1-ϕ2),p))\n",
    "print(\"or in deegres\")\n",
    "display(Eq(abs(ϕ1-ϕ2),deg(p)))"
   ]
  }
 ],
 "metadata": {
  "kernelspec": {
   "display_name": "Python 3 (ipykernel)",
   "language": "python",
   "name": "python3"
  }
 },
 "nbformat": 4,
 "nbformat_minor": 5
}
