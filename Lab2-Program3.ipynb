{
 "cells": [
  {
   "cell_type": "code",
   "execution_count": 3,
   "id": "091d78bc",
   "metadata": {},
   "outputs": [],
   "source": [
    "# Program to find angle between two polar curves \n",
    "from sympy import *"
   ]
  },
  {
   "cell_type": "code",
   "execution_count": 5,
   "id": "bf040875",
   "metadata": {},
   "outputs": [
    {
     "name": "stdout",
     "output_type": "stream",
     "text": [
      "Radius of curvature is \n"
     ]
    },
    {
     "data": {
      "text/latex": [
       "$\\displaystyle p = \\frac{\\left(a^{2} n^{2} \\cos^{2}{\\left(n t \\right)} + a^{2} \\sin^{2}{\\left(n t \\right)}\\right)^{1.5}}{a^{2} n^{2} \\sin^{2}{\\left(n t \\right)} + 2 a^{2} n^{2} \\cos^{2}{\\left(n t \\right)} + a^{2} \\sin^{2}{\\left(n t \\right)}}$"
      ],
      "text/plain": [
       "Eq(p, (a**2*n**2*cos(n*t)**2 + a**2*sin(n*t)**2)**1.5/(a**2*n**2*sin(n*t)**2 + 2*a**2*n**2*cos(n*t)**2 + a**2*sin(n*t)**2))"
      ]
     },
     "metadata": {},
     "output_type": "display_data"
    },
    {
     "name": "stdout",
     "output_type": "stream",
     "text": [
      "Curvature at t=pi/2 and n=1 is \n"
     ]
    },
    {
     "data": {
      "text/latex": [
       "$\\displaystyle \\frac{1}{p} = \\frac{a^{2} n^{2} \\sin^{2}{\\left(n t \\right)} + 2 a^{2} n^{2} \\cos^{2}{\\left(n t \\right)} + a^{2} \\sin^{2}{\\left(n t \\right)}}{\\left(a^{2} n^{2} \\cos^{2}{\\left(n t \\right)} + a^{2} \\sin^{2}{\\left(n t \\right)}\\right)^{1.5}}$"
      ],
      "text/plain": [
       "Eq(1/p, (a**2*n**2*sin(n*t)**2 + 2*a**2*n**2*cos(n*t)**2 + a**2*sin(n*t)**2)/(a**2*n**2*cos(n*t)**2 + a**2*sin(n*t)**2)**1.5)"
      ]
     },
     "metadata": {},
     "output_type": "display_data"
    }
   ],
   "source": [
    "a, n, t, p = symbols('a, n, t, p')\n",
    "\n",
    "# Question 2: r = 4(1+cos(t)) and r = 5(1-cost(t))\n",
    "r = a*sin(n*t)\n",
    "r1 = diff(r,t)\n",
    "r2 = diff(r1,t)\n",
    "\n",
    "rho = (r**2+r1**2)**(3/2)/(r**2+2*r1**2-r*r2)\n",
    "\n",
    "print(\"Radius of curvature is \")\n",
    "display(Eq(p, rho))\n",
    "\n",
    "print(\"Curvature at t=pi/2 and n=1 is \")\n",
    "display(Eq(1/p, 1/rho))"
   ]
  }
 ],
 "metadata": {
  "kernelspec": {
   "display_name": "Python 3 (ipykernel)",
   "language": "python",
   "name": "python3"
  },
  "language_info": {
   "codemirror_mode": {
    "name": "ipython",
    "version": 3
   },
   "file_extension": ".py",
   "mimetype": "text/x-python",
   "name": "python",
   "nbconvert_exporter": "python",
   "pygments_lexer": "ipython3",
   "version": "3.9.7"
  }
 },
 "nbformat": 4,
 "nbformat_minor": 5
}
